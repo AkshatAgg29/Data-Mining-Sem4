{
 "cells": [
  {
   "cell_type": "markdown",
   "id": "0297158d",
   "metadata": {},
   "source": [
    "**E22CSEU0020**"
   ]
  },
  {
   "cell_type": "markdown",
   "id": "dcb56ac4",
   "metadata": {},
   "source": [
    "**Akshat Aggarwal**"
   ]
  },
  {
   "cell_type": "markdown",
   "id": "e242694a",
   "metadata": {},
   "source": [
    "**Loading Libraries**"
   ]
  },
  {
   "cell_type": "code",
   "execution_count": 1,
   "id": "88989064",
   "metadata": {},
   "outputs": [],
   "source": [
    "import pandas as pd\n",
    "from scipy.stats import f_oneway\n",
    "from sklearn.preprocessing import StandardScaler\n",
    "from sklearn.datasets import load_digits\n",
    "from sklearn.model_selection import train_test_split\n",
    "from sklearn.neural_network import MLPClassifier\n",
    "import matplotlib.pyplot as plt"
   ]
  },
  {
   "cell_type": "markdown",
   "id": "d168f59e",
   "metadata": {},
   "source": [
    "**Ques:1**"
   ]
  },
  {
   "cell_type": "code",
   "execution_count": 2,
   "id": "0cca6dad",
   "metadata": {},
   "outputs": [
    {
     "data": {
      "text/html": [
       "<div>\n",
       "<style scoped>\n",
       "    .dataframe tbody tr th:only-of-type {\n",
       "        vertical-align: middle;\n",
       "    }\n",
       "\n",
       "    .dataframe tbody tr th {\n",
       "        vertical-align: top;\n",
       "    }\n",
       "\n",
       "    .dataframe thead th {\n",
       "        text-align: right;\n",
       "    }\n",
       "</style>\n",
       "<table border=\"1\" class=\"dataframe\">\n",
       "  <thead>\n",
       "    <tr style=\"text-align: right;\">\n",
       "      <th></th>\n",
       "      <th>id</th>\n",
       "      <th>gender</th>\n",
       "      <th>age</th>\n",
       "      <th>height</th>\n",
       "      <th>diet.type</th>\n",
       "      <th>initial.weight</th>\n",
       "      <th>final.weight</th>\n",
       "    </tr>\n",
       "  </thead>\n",
       "  <tbody>\n",
       "    <tr>\n",
       "      <th>0</th>\n",
       "      <td>1</td>\n",
       "      <td>Female</td>\n",
       "      <td>22</td>\n",
       "      <td>159</td>\n",
       "      <td>A</td>\n",
       "      <td>58</td>\n",
       "      <td>54.2</td>\n",
       "    </tr>\n",
       "    <tr>\n",
       "      <th>1</th>\n",
       "      <td>2</td>\n",
       "      <td>Female</td>\n",
       "      <td>46</td>\n",
       "      <td>192</td>\n",
       "      <td>A</td>\n",
       "      <td>60</td>\n",
       "      <td>54.0</td>\n",
       "    </tr>\n",
       "    <tr>\n",
       "      <th>2</th>\n",
       "      <td>3</td>\n",
       "      <td>Female</td>\n",
       "      <td>55</td>\n",
       "      <td>170</td>\n",
       "      <td>A</td>\n",
       "      <td>64</td>\n",
       "      <td>63.3</td>\n",
       "    </tr>\n",
       "    <tr>\n",
       "      <th>3</th>\n",
       "      <td>4</td>\n",
       "      <td>Female</td>\n",
       "      <td>33</td>\n",
       "      <td>171</td>\n",
       "      <td>A</td>\n",
       "      <td>64</td>\n",
       "      <td>61.1</td>\n",
       "    </tr>\n",
       "    <tr>\n",
       "      <th>4</th>\n",
       "      <td>5</td>\n",
       "      <td>Female</td>\n",
       "      <td>50</td>\n",
       "      <td>170</td>\n",
       "      <td>A</td>\n",
       "      <td>65</td>\n",
       "      <td>62.2</td>\n",
       "    </tr>\n",
       "  </tbody>\n",
       "</table>\n",
       "</div>"
      ],
      "text/plain": [
       "   id  gender  age  height diet.type  initial.weight  final.weight\n",
       "0   1  Female   22     159         A              58          54.2\n",
       "1   2  Female   46     192         A              60          54.0\n",
       "2   3  Female   55     170         A              64          63.3\n",
       "3   4  Female   33     171         A              64          61.1\n",
       "4   5  Female   50     170         A              65          62.2"
      ]
     },
     "execution_count": 2,
     "metadata": {},
     "output_type": "execute_result"
    }
   ],
   "source": [
    "# Reading the data\n",
    "data = pd.read_csv('diet.csv')\n",
    "data.head()"
   ]
  },
  {
   "cell_type": "code",
   "execution_count": 3,
   "id": "c0d92ade",
   "metadata": {},
   "outputs": [
    {
     "name": "stdout",
     "output_type": "stream",
     "text": [
      "   id  gender       age    height diet.type  initial.weight  final.weight\n",
      "0   1  Female -1.749845 -1.038055         A       -1.803768     -1.766659\n",
      "1   2  Female  0.688442  1.870818         A       -1.551307     -1.791641\n",
      "2   3  Female  1.602799 -0.068430         A       -1.046385     -0.629975\n",
      "3   4  Female -0.632297  0.019717         A       -1.046385     -0.904778\n",
      "4   5  Female  1.094823 -0.068430         A       -0.920154     -0.767377\n"
     ]
    }
   ],
   "source": [
    "#A)\n",
    "\n",
    "# Select columns to normalize\n",
    "columns_to_normalize = ['age', 'height', 'initial.weight', 'final.weight']\n",
    "\n",
    "# Normalize the selected columns\n",
    "scaler = StandardScaler()\n",
    "data[columns_to_normalize] = scaler.fit_transform(data[columns_to_normalize])\n",
    "\n",
    "# Check the normalized data\n",
    "print(data.head())"
   ]
  },
  {
   "cell_type": "code",
   "execution_count": 4,
   "id": "4d75a41e",
   "metadata": {},
   "outputs": [
    {
     "name": "stdout",
     "output_type": "stream",
     "text": [
      "F-statistic: 0.00766401862142607\n",
      "p-value: 0.9306107466502493\n"
     ]
    }
   ],
   "source": [
    "#B)\n",
    "\n",
    "# Calculating the difference between final and initial weight\n",
    "data['weight_difference'] = data['final.weight'] - data['initial.weight']\n",
    "\n",
    "# Perform ANOVA\n",
    "anova_result = f_oneway(data['weight_difference'][data['diet.type'] == 'A'],\n",
    "                        data['weight_difference'][data['diet.type'] == 'B'])\n",
    "\n",
    "# Print ANOVA result\n",
    "print(\"F-statistic:\", anova_result.statistic)\n",
    "print(\"p-value:\", anova_result.pvalue)"
   ]
  },
  {
   "cell_type": "code",
   "execution_count": 5,
   "id": "fb3de77f",
   "metadata": {},
   "outputs": [
    {
     "name": "stdout",
     "output_type": "stream",
     "text": [
      "F-statistic is not significant, fail to reject null hypothesis\n"
     ]
    }
   ],
   "source": [
    "#C)\n",
    "\n",
    "alpha = 0.05\n",
    "\n",
    "if anova_result.pvalue < alpha:\n",
    "    print(\"F-statistic is significant\")\n",
    "else:\n",
    "    print(\"F-statistic is not significant\")\n"
   ]
  },
  {
   "cell_type": "markdown",
   "id": "1bc7886f",
   "metadata": {},
   "source": [
    "**Ques:2**"
   ]
  },
  {
   "cell_type": "code",
   "execution_count": 6,
   "id": "c32ca6b8",
   "metadata": {},
   "outputs": [
    {
     "data": {
      "image/png": "[encoded data removed]",
      "text/plain": [
       "<Figure size 1000x500 with 10 Axes>"
      ]
     },
     "metadata": {},
     "output_type": "display_data"
    }
   ],
   "source": [
    "#A)\n",
    "\n",
    "# Load digits dataset\n",
    "digits = load_digits()\n",
    "\n",
    "# Plotting some digits\n",
    "fig, axes = plt.subplots(2, 5, figsize=(10, 5),\n",
    "                         subplot_kw={'xticks':[], 'yticks':[]},\n",
    "                         gridspec_kw=dict(hspace=0.1, wspace=0.1))\n",
    "for i, ax in enumerate(axes.flat):\n",
    "    ax.imshow(digits.images[i], cmap='binary', interpolation='nearest')\n",
    "    ax.text(0.05, 0.05, str(digits.target[i]),\n",
    "            transform=ax.transAxes, color='green')\n",
    "\n",
    "plt.show()"
   ]
  },
  {
   "cell_type": "code",
   "execution_count": 8,
   "id": "9c946397",
   "metadata": {},
   "outputs": [],
   "source": [
    "#B)\n",
    "\n",
    "# Get data and labels\n",
    "data_and_labels = digits.data, digits.target\n",
    "X, y = data_and_labels\n",
    "\n",
    "# Splitting data into train and test sets\n",
    "X_train, X_test, y_train, y_test = train_test_split(X, y, random_state=42)"
   ]
  },
  {
   "cell_type": "code",
   "execution_count": 13,
   "id": "8331f899",
   "metadata": {},
   "outputs": [
    {
     "name": "stdout",
     "output_type": "stream",
     "text": [
      "Accuracy: 0.08444444444444445\n"
     ]
    },
    {
     "name": "stderr",
     "output_type": "stream",
     "text": [
      "C:\\ProgramData\\anaconda3\\Lib\\site-packages\\sklearn\\neural_network\\_multilayer_perceptron.py:691: ConvergenceWarning: Stochastic Optimizer: Maximum iterations (10) reached and the optimization hasn't converged yet.\n",
      "  warnings.warn(\n"
     ]
    }
   ],
   "source": [
    "#C)\n",
    "\n",
    "# MLPClassifier\n",
    "mlp = MLPClassifier(hidden_layer_sizes=(3,),\n",
    "                    activation='relu',\n",
    "                    solver='adam',\n",
    "                    batch_size=10,\n",
    "                    learning_rate_init=0.09,\n",
    "                    max_iter=10,\n",
    "                    random_state=42)\n",
    "\n",
    "# Training the model\n",
    "mlp.fit(X_train[:50000], y_train[:50000])\n",
    "\n",
    "# Evaluating the model\n",
    "accuracy = mlp.score(X_test, y_test)\n",
    "print(\"Accuracy:\", accuracy)"
   ]
  },
  {
   "cell_type": "code",
   "execution_count": null,
   "id": "6da21b33",
   "metadata": {},
   "outputs": [],
   "source": []
  }
 ],
 "metadata": {
  "kernelspec": {
   "display_name": "Python 3 (ipykernel)",
   "language": "python",
   "name": "python3"
  },
  "language_info": {
   "codemirror_mode": {
    "name": "ipython",
    "version": 3
   },
   "file_extension": ".py",
   "mimetype": "text/x-python",
   "name": "python",
   "nbconvert_exporter": "python",
   "pygments_lexer": "ipython3",
   "version": "3.11.5"
  }
 },
 "nbformat": 4,
 "nbformat_minor": 5
}
